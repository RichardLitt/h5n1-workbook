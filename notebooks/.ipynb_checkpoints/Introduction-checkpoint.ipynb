{
 "cells": [
  {
   "cell_type": "markdown",
   "id": "24d23e32-0063-4a82-a8a6-6dcee1122b1d",
   "metadata": {
    "scrolled": true
   },
   "source": [
    "# Atlassing Seabirds of New Zealand\n",
    "\n",
    "This page will load up four different databases that are relevant to mapping seabirds in New Zealand:\n",
    "\n",
    "- eBird\n",
    "- iNaturalist\n",
    "- Royal Naval Birdwatching Society\n",
    "- Beach Patrol Surveys\n",
    "- DOC Surveys\n",
    "\n",
    "Each of these databases has slightly different scope and protocols."
   ]
  },
  {
   "cell_type": "code",
   "execution_count": null,
   "id": "c0bd28a1-5fb7-4432-887d-127db415e438",
   "metadata": {},
   "outputs": [],
   "source": []
  }
 ],
 "metadata": {
  "kernelspec": {
   "display_name": "R",
   "language": "R",
   "name": "ir"
  },
  "language_info": {
   "codemirror_mode": "r",
   "file_extension": ".r",
   "mimetype": "text/x-r-source",
   "name": "R",
   "pygments_lexer": "r",
   "version": "4.4.1"
  }
 },
 "nbformat": 4,
 "nbformat_minor": 5
}
